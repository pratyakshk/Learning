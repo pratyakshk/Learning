{
 "cells": [
  {
   "cell_type": "markdown",
   "id": "d6a05315",
   "metadata": {},
   "source": [
    "## Ecommerce Purchases Data Analysis"
   ]
  },
  {
   "cell_type": "markdown",
   "id": "8bd7a6c4",
   "metadata": {},
   "source": [
    "The situation is, customers are providing some personal information while purchasing stuff on-line or in-store. For some reasons, your client wants to know the answer to some of his questions from the dataset, let's try to help for them.\n"
   ]
  },
  {
   "cell_type": "markdown",
   "id": "050380b9",
   "metadata": {},
   "source": [
    "The following insights are expected from this project:\n",
    "\n",
    "1   How many entries your data have? Can you tell the no. of columns in your data?\n",
    "    get the basic statistics of all the columns, count the unique data present in each feature\n",
    "2.\tPerform Univariate analysis and multi variate analysis using plots\n",
    "3.\tCheck with the null values of the features and handle it appropriately\n",
    "4.\tCheck for the normality of the data using histogram\n",
    "5.\tPerform imputation by checking the IQR and remove outliers if any\n",
    "6.\tWhat are the three most common customer's names?\n",
    "7.\tHow many male customers have 'Structural Engineer' as profession?\n",
    "8.\tAny customers have the same phone number, can you find those customers?\n",
    "9.\tAs a loyalty reward, company wants to send thanks coupon to those who spent 100CAD or more, please find out the customers?\n",
    "10.\tCan you tell the top 5 most popular email providers? (e.g. gmail.com, yahoo.com, etc...)\n",
    "11\tIs there any customer who is using email with \"am.edu\"?\n",
    "12\tWhich day of the week, the store gets more customers?\n",
    "13  What are two most common professions?\n"
   ]
  },
  {
   "cell_type": "code",
   "execution_count": 1,
   "id": "299896c6",
   "metadata": {},
   "outputs": [],
   "source": [
    "## Importing the libraries\n",
    "import pandas as pd\n",
    "import numpy as np\n",
    "import matplotlib.pyplot as plt\n",
    "import seaborn as sns"
   ]
  },
  {
   "cell_type": "code",
   "execution_count": 2,
   "id": "2ac3c544",
   "metadata": {},
   "outputs": [
    {
     "data": {
      "text/html": [
       "<div>\n",
       "<style scoped>\n",
       "    .dataframe tbody tr th:only-of-type {\n",
       "        vertical-align: middle;\n",
       "    }\n",
       "\n",
       "    .dataframe tbody tr th {\n",
       "        vertical-align: top;\n",
       "    }\n",
       "\n",
       "    .dataframe thead th {\n",
       "        text-align: right;\n",
       "    }\n",
       "</style>\n",
       "<table border=\"1\" class=\"dataframe\">\n",
       "  <thead>\n",
       "    <tr style=\"text-align: right;\">\n",
       "      <th></th>\n",
       "      <th>prefix</th>\n",
       "      <th>first</th>\n",
       "      <th>last</th>\n",
       "      <th>email</th>\n",
       "      <th>gender</th>\n",
       "      <th>age</th>\n",
       "      <th>company</th>\n",
       "      <th>profession</th>\n",
       "      <th>phone</th>\n",
       "      <th>postal</th>\n",
       "      <th>province</th>\n",
       "      <th>cc_no</th>\n",
       "      <th>cc_exp</th>\n",
       "      <th>cc_type</th>\n",
       "      <th>price(CAD)</th>\n",
       "      <th>fav_color</th>\n",
       "      <th>ip</th>\n",
       "      <th>weekday</th>\n",
       "      <th>ampm</th>\n",
       "      <th>date</th>\n",
       "    </tr>\n",
       "  </thead>\n",
       "  <tbody>\n",
       "    <tr>\n",
       "      <th>0</th>\n",
       "      <td>Dr.</td>\n",
       "      <td>Ray</td>\n",
       "      <td>Morton</td>\n",
       "      <td>sebvajom@kol.km</td>\n",
       "      <td>Male</td>\n",
       "      <td>38</td>\n",
       "      <td>Medtronic Inc.</td>\n",
       "      <td>Health Therapist</td>\n",
       "      <td>(987) 619-2695</td>\n",
       "      <td>B6V 3W3</td>\n",
       "      <td>MB</td>\n",
       "      <td>5.020000e+15</td>\n",
       "      <td>May-18</td>\n",
       "      <td>Solo</td>\n",
       "      <td>8.36</td>\n",
       "      <td>Blue</td>\n",
       "      <td>126.23.139.2</td>\n",
       "      <td>Sunday</td>\n",
       "      <td>pm</td>\n",
       "      <td>04-05-1930</td>\n",
       "    </tr>\n",
       "    <tr>\n",
       "      <th>1</th>\n",
       "      <td>Miss</td>\n",
       "      <td>Claudia</td>\n",
       "      <td>Rodriquez</td>\n",
       "      <td>acu@jatsot.ug</td>\n",
       "      <td>Female</td>\n",
       "      <td>51</td>\n",
       "      <td>Ames Department Stores, Inc.</td>\n",
       "      <td>Health Therapist</td>\n",
       "      <td>(356) 736-7352</td>\n",
       "      <td>G7M 5F3</td>\n",
       "      <td>SK</td>\n",
       "      <td>5.020000e+15</td>\n",
       "      <td>Jul-28</td>\n",
       "      <td>Visa</td>\n",
       "      <td>68.31</td>\n",
       "      <td>Black</td>\n",
       "      <td>106.198.76.211</td>\n",
       "      <td>Tuesday</td>\n",
       "      <td>am</td>\n",
       "      <td>12/20/1926</td>\n",
       "    </tr>\n",
       "    <tr>\n",
       "      <th>2</th>\n",
       "      <td>Miss</td>\n",
       "      <td>Harry</td>\n",
       "      <td>Meyer</td>\n",
       "      <td>zuz@lo.wf</td>\n",
       "      <td>Female</td>\n",
       "      <td>51</td>\n",
       "      <td>CSX Corp.</td>\n",
       "      <td>Political Scientist</td>\n",
       "      <td>(539) 246-1806</td>\n",
       "      <td>A0Z 6P9</td>\n",
       "      <td>NS</td>\n",
       "      <td>6.300000e+15</td>\n",
       "      <td>Feb-23</td>\n",
       "      <td>Switch</td>\n",
       "      <td>34.65</td>\n",
       "      <td>Black</td>\n",
       "      <td>186.150.187.29</td>\n",
       "      <td>Wednesday</td>\n",
       "      <td>pm</td>\n",
       "      <td>08/20/1931</td>\n",
       "    </tr>\n",
       "    <tr>\n",
       "      <th>3</th>\n",
       "      <td>Miss</td>\n",
       "      <td>Edith</td>\n",
       "      <td>Gilbert</td>\n",
       "      <td>hansohsi@jupec.md</td>\n",
       "      <td>Female</td>\n",
       "      <td>55</td>\n",
       "      <td>Murphy Oil Corporation</td>\n",
       "      <td>Transportation Manager</td>\n",
       "      <td>(984) 962-7494</td>\n",
       "      <td>P9I 9H3</td>\n",
       "      <td>YT</td>\n",
       "      <td>3.530000e+15</td>\n",
       "      <td>Feb-28</td>\n",
       "      <td>Maestro</td>\n",
       "      <td>64.59</td>\n",
       "      <td>White</td>\n",
       "      <td>80.140.57.161</td>\n",
       "      <td>Saturday</td>\n",
       "      <td>am</td>\n",
       "      <td>06/18/2001</td>\n",
       "    </tr>\n",
       "    <tr>\n",
       "      <th>4</th>\n",
       "      <td>Dr.</td>\n",
       "      <td>Lura</td>\n",
       "      <td>Murphy</td>\n",
       "      <td>webediti@je.st</td>\n",
       "      <td>Female</td>\n",
       "      <td>20</td>\n",
       "      <td>PETsMART Inc</td>\n",
       "      <td>Statistician</td>\n",
       "      <td>(902) 568-9748</td>\n",
       "      <td>S1A 6K0</td>\n",
       "      <td>ON</td>\n",
       "      <td>4.030000e+15</td>\n",
       "      <td>Oct-25</td>\n",
       "      <td>Diners Club International</td>\n",
       "      <td>20.83</td>\n",
       "      <td>Yellow</td>\n",
       "      <td>211.103.43.41</td>\n",
       "      <td>Friday</td>\n",
       "      <td>pm</td>\n",
       "      <td>06/14/2045</td>\n",
       "    </tr>\n",
       "  </tbody>\n",
       "</table>\n",
       "</div>"
      ],
      "text/plain": [
       "  prefix    first       last              email  gender  age  \\\n",
       "0    Dr.      Ray     Morton    sebvajom@kol.km    Male   38   \n",
       "1   Miss  Claudia  Rodriquez      acu@jatsot.ug  Female   51   \n",
       "2   Miss    Harry      Meyer          zuz@lo.wf  Female   51   \n",
       "3   Miss    Edith    Gilbert  hansohsi@jupec.md  Female   55   \n",
       "4    Dr.     Lura     Murphy     webediti@je.st  Female   20   \n",
       "\n",
       "                        company              profession           phone  \\\n",
       "0                Medtronic Inc.        Health Therapist  (987) 619-2695   \n",
       "1  Ames Department Stores, Inc.        Health Therapist  (356) 736-7352   \n",
       "2                     CSX Corp.     Political Scientist  (539) 246-1806   \n",
       "3        Murphy Oil Corporation  Transportation Manager  (984) 962-7494   \n",
       "4                  PETsMART Inc            Statistician  (902) 568-9748   \n",
       "\n",
       "    postal province         cc_no  cc_exp                    cc_type  \\\n",
       "0  B6V 3W3       MB  5.020000e+15  May-18                       Solo   \n",
       "1  G7M 5F3       SK  5.020000e+15  Jul-28                       Visa   \n",
       "2  A0Z 6P9       NS  6.300000e+15  Feb-23                     Switch   \n",
       "3  P9I 9H3       YT  3.530000e+15  Feb-28                    Maestro   \n",
       "4  S1A 6K0       ON  4.030000e+15  Oct-25  Diners Club International   \n",
       "\n",
       "  price(CAD) fav_color              ip    weekday ampm        date  \n",
       "0       8.36      Blue    126.23.139.2     Sunday   pm  04-05-1930  \n",
       "1      68.31     Black  106.198.76.211    Tuesday   am  12/20/1926  \n",
       "2      34.65     Black  186.150.187.29  Wednesday   pm  08/20/1931  \n",
       "3      64.59     White   80.140.57.161   Saturday   am  06/18/2001  \n",
       "4      20.83    Yellow   211.103.43.41     Friday   pm  06/14/2045  "
      ]
     },
     "execution_count": 2,
     "metadata": {},
     "output_type": "execute_result"
    }
   ],
   "source": [
    "#1. Load data and display first 5 rows\n",
    "cust = pd.read_csv('Cust_Purch_FakeData.csv')\n",
    "cust.head(5)"
   ]
  },
  {
   "cell_type": "code",
   "execution_count": 3,
   "id": "c759cdcf",
   "metadata": {},
   "outputs": [
    {
     "data": {
      "text/plain": [
       "(30000, 20)"
      ]
     },
     "execution_count": 3,
     "metadata": {},
     "output_type": "execute_result"
    }
   ],
   "source": [
    "# get number of rows, columns in the data\n",
    "cust.shape"
   ]
  },
  {
   "cell_type": "code",
   "execution_count": 4,
   "id": "14352f18",
   "metadata": {
    "scrolled": true
   },
   "outputs": [
    {
     "name": "stdout",
     "output_type": "stream",
     "text": [
      "<class 'pandas.core.frame.DataFrame'>\n",
      "RangeIndex: 30000 entries, 0 to 29999\n",
      "Data columns (total 20 columns):\n",
      " #   Column      Non-Null Count  Dtype  \n",
      "---  ------      --------------  -----  \n",
      " 0   prefix      30000 non-null  object \n",
      " 1   first       30000 non-null  object \n",
      " 2   last        30000 non-null  object \n",
      " 3   email       30000 non-null  object \n",
      " 4   gender      29997 non-null  object \n",
      " 5   age         30000 non-null  int64  \n",
      " 6   company     30000 non-null  object \n",
      " 7   profession  30000 non-null  object \n",
      " 8   phone       30000 non-null  object \n",
      " 9   postal      30000 non-null  object \n",
      " 10  province    29998 non-null  object \n",
      " 11  cc_no       30000 non-null  float64\n",
      " 12  cc_exp      30000 non-null  object \n",
      " 13  cc_type     30000 non-null  object \n",
      " 14  price(CAD)  29995 non-null  object \n",
      " 15  fav_color   30000 non-null  object \n",
      " 16  ip          30000 non-null  object \n",
      " 17  weekday     30000 non-null  object \n",
      " 18  ampm        30000 non-null  object \n",
      " 19  date        30000 non-null  object \n",
      "dtypes: float64(1), int64(1), object(18)\n",
      "memory usage: 4.6+ MB\n"
     ]
    }
   ],
   "source": [
    "cust.info()"
   ]
  },
  {
   "cell_type": "code",
   "execution_count": 5,
   "id": "fc0ddf87",
   "metadata": {},
   "outputs": [
    {
     "data": {
      "text/plain": [
       "dtype('O')"
      ]
     },
     "execution_count": 5,
     "metadata": {},
     "output_type": "execute_result"
    }
   ],
   "source": [
    "cust['cc_no']=str(cust['cc_no'])\n",
    "cust['cc_no'].dtype"
   ]
  },
  {
   "cell_type": "code",
   "execution_count": 6,
   "id": "0ade285a",
   "metadata": {},
   "outputs": [
    {
     "data": {
      "text/html": [
       "<div>\n",
       "<style scoped>\n",
       "    .dataframe tbody tr th:only-of-type {\n",
       "        vertical-align: middle;\n",
       "    }\n",
       "\n",
       "    .dataframe tbody tr th {\n",
       "        vertical-align: top;\n",
       "    }\n",
       "\n",
       "    .dataframe thead th {\n",
       "        text-align: right;\n",
       "    }\n",
       "</style>\n",
       "<table border=\"1\" class=\"dataframe\">\n",
       "  <thead>\n",
       "    <tr style=\"text-align: right;\">\n",
       "      <th></th>\n",
       "      <th>age</th>\n",
       "    </tr>\n",
       "  </thead>\n",
       "  <tbody>\n",
       "    <tr>\n",
       "      <th>count</th>\n",
       "      <td>30000.000000</td>\n",
       "    </tr>\n",
       "    <tr>\n",
       "      <th>mean</th>\n",
       "      <td>41.550067</td>\n",
       "    </tr>\n",
       "    <tr>\n",
       "      <th>std</th>\n",
       "      <td>13.839073</td>\n",
       "    </tr>\n",
       "    <tr>\n",
       "      <th>min</th>\n",
       "      <td>18.000000</td>\n",
       "    </tr>\n",
       "    <tr>\n",
       "      <th>25%</th>\n",
       "      <td>30.000000</td>\n",
       "    </tr>\n",
       "    <tr>\n",
       "      <th>50%</th>\n",
       "      <td>42.000000</td>\n",
       "    </tr>\n",
       "    <tr>\n",
       "      <th>75%</th>\n",
       "      <td>53.000000</td>\n",
       "    </tr>\n",
       "    <tr>\n",
       "      <th>max</th>\n",
       "      <td>65.000000</td>\n",
       "    </tr>\n",
       "  </tbody>\n",
       "</table>\n",
       "</div>"
      ],
      "text/plain": [
       "                age\n",
       "count  30000.000000\n",
       "mean      41.550067\n",
       "std       13.839073\n",
       "min       18.000000\n",
       "25%       30.000000\n",
       "50%       42.000000\n",
       "75%       53.000000\n",
       "max       65.000000"
      ]
     },
     "execution_count": 6,
     "metadata": {},
     "output_type": "execute_result"
    }
   ],
   "source": [
    "#basic statistics and count of unique numerial columns\n",
    "cust.describe()"
   ]
  },
  {
   "cell_type": "code",
   "execution_count": 7,
   "id": "a2415817",
   "metadata": {},
   "outputs": [
    {
     "data": {
      "text/html": [
       "<div>\n",
       "<style scoped>\n",
       "    .dataframe tbody tr th:only-of-type {\n",
       "        vertical-align: middle;\n",
       "    }\n",
       "\n",
       "    .dataframe tbody tr th {\n",
       "        vertical-align: top;\n",
       "    }\n",
       "\n",
       "    .dataframe thead th {\n",
       "        text-align: right;\n",
       "    }\n",
       "</style>\n",
       "<table border=\"1\" class=\"dataframe\">\n",
       "  <thead>\n",
       "    <tr style=\"text-align: right;\">\n",
       "      <th></th>\n",
       "      <th>prefix</th>\n",
       "      <th>first</th>\n",
       "      <th>last</th>\n",
       "      <th>email</th>\n",
       "      <th>gender</th>\n",
       "      <th>company</th>\n",
       "      <th>profession</th>\n",
       "      <th>phone</th>\n",
       "      <th>postal</th>\n",
       "      <th>province</th>\n",
       "      <th>cc_no</th>\n",
       "      <th>cc_exp</th>\n",
       "      <th>cc_type</th>\n",
       "      <th>price(CAD)</th>\n",
       "      <th>fav_color</th>\n",
       "      <th>ip</th>\n",
       "      <th>weekday</th>\n",
       "      <th>ampm</th>\n",
       "      <th>date</th>\n",
       "    </tr>\n",
       "  </thead>\n",
       "  <tbody>\n",
       "    <tr>\n",
       "      <th>count</th>\n",
       "      <td>30000</td>\n",
       "      <td>30000</td>\n",
       "      <td>30000</td>\n",
       "      <td>30000</td>\n",
       "      <td>29997</td>\n",
       "      <td>30000</td>\n",
       "      <td>30000</td>\n",
       "      <td>30000</td>\n",
       "      <td>30000</td>\n",
       "      <td>29998</td>\n",
       "      <td>30000</td>\n",
       "      <td>30000</td>\n",
       "      <td>30000</td>\n",
       "      <td>29995</td>\n",
       "      <td>30000</td>\n",
       "      <td>30000</td>\n",
       "      <td>30000</td>\n",
       "      <td>30000</td>\n",
       "      <td>30000</td>\n",
       "    </tr>\n",
       "    <tr>\n",
       "      <th>unique</th>\n",
       "      <td>4</td>\n",
       "      <td>497</td>\n",
       "      <td>500</td>\n",
       "      <td>28955</td>\n",
       "      <td>3</td>\n",
       "      <td>947</td>\n",
       "      <td>389</td>\n",
       "      <td>29999</td>\n",
       "      <td>29960</td>\n",
       "      <td>14</td>\n",
       "      <td>1</td>\n",
       "      <td>130</td>\n",
       "      <td>17</td>\n",
       "      <td>9512</td>\n",
       "      <td>6</td>\n",
       "      <td>29999</td>\n",
       "      <td>7</td>\n",
       "      <td>2</td>\n",
       "      <td>23789</td>\n",
       "    </tr>\n",
       "    <tr>\n",
       "      <th>top</th>\n",
       "      <td>Mrs.</td>\n",
       "      <td>Willie</td>\n",
       "      <td>Byrd</td>\n",
       "      <td>me@outlook.com</td>\n",
       "      <td>Female</td>\n",
       "      <td>Trinity Industries Inc</td>\n",
       "      <td>Preschool Teacher</td>\n",
       "      <td>(263) 382-8004</td>\n",
       "      <td>J2Y 9J9</td>\n",
       "      <td>ON</td>\n",
       "      <td>0        5.020000e+15\\n1        5.020000e+15\\n...</td>\n",
       "      <td>Apr-18</td>\n",
       "      <td>Solo</td>\n",
       "      <td>83.21</td>\n",
       "      <td>White</td>\n",
       "      <td>64.136.159.51</td>\n",
       "      <td>Saturday</td>\n",
       "      <td>am</td>\n",
       "      <td>01-01-2063</td>\n",
       "    </tr>\n",
       "    <tr>\n",
       "      <th>freq</th>\n",
       "      <td>7676</td>\n",
       "      <td>130</td>\n",
       "      <td>94</td>\n",
       "      <td>8</td>\n",
       "      <td>15143</td>\n",
       "      <td>51</td>\n",
       "      <td>112</td>\n",
       "      <td>2</td>\n",
       "      <td>2</td>\n",
       "      <td>2372</td>\n",
       "      <td>30000</td>\n",
       "      <td>293</td>\n",
       "      <td>1867</td>\n",
       "      <td>13</td>\n",
       "      <td>5080</td>\n",
       "      <td>2</td>\n",
       "      <td>4376</td>\n",
       "      <td>15031</td>\n",
       "      <td>5</td>\n",
       "    </tr>\n",
       "  </tbody>\n",
       "</table>\n",
       "</div>"
      ],
      "text/plain": [
       "       prefix   first   last           email  gender                 company  \\\n",
       "count   30000   30000  30000           30000   29997                   30000   \n",
       "unique      4     497    500           28955       3                     947   \n",
       "top      Mrs.  Willie   Byrd  me@outlook.com  Female  Trinity Industries Inc   \n",
       "freq     7676     130     94               8   15143                      51   \n",
       "\n",
       "               profession           phone   postal province  \\\n",
       "count               30000           30000    30000    29998   \n",
       "unique                389           29999    29960       14   \n",
       "top     Preschool Teacher  (263) 382-8004  J2Y 9J9       ON   \n",
       "freq                  112               2        2     2372   \n",
       "\n",
       "                                                    cc_no  cc_exp cc_type  \\\n",
       "count                                               30000   30000   30000   \n",
       "unique                                                  1     130      17   \n",
       "top     0        5.020000e+15\\n1        5.020000e+15\\n...  Apr-18    Solo   \n",
       "freq                                                30000     293    1867   \n",
       "\n",
       "       price(CAD) fav_color             ip   weekday   ampm        date  \n",
       "count       29995     30000          30000     30000  30000       30000  \n",
       "unique       9512         6          29999         7      2       23789  \n",
       "top         83.21     White  64.136.159.51  Saturday     am  01-01-2063  \n",
       "freq           13      5080              2      4376  15031           5  "
      ]
     },
     "execution_count": 7,
     "metadata": {},
     "output_type": "execute_result"
    }
   ],
   "source": [
    "#basic statistics of object columns and count the unique data present in each feature\n",
    "\n",
    "cust.describe(include=['object'])"
   ]
  },
  {
   "cell_type": "code",
   "execution_count": 8,
   "id": "580009fc",
   "metadata": {},
   "outputs": [
    {
     "data": {
      "text/plain": [
       "prefix        0\n",
       "first         0\n",
       "last          0\n",
       "email         0\n",
       "gender        3\n",
       "age           0\n",
       "company       0\n",
       "profession    0\n",
       "phone         0\n",
       "postal        0\n",
       "province      2\n",
       "cc_no         0\n",
       "cc_exp        0\n",
       "cc_type       0\n",
       "price(CAD)    5\n",
       "fav_color     0\n",
       "ip            0\n",
       "weekday       0\n",
       "ampm          0\n",
       "date          0\n",
       "dtype: int64"
      ]
     },
     "execution_count": 8,
     "metadata": {},
     "output_type": "execute_result"
    }
   ],
   "source": [
    "#2. Check with the null values \n",
    "cust.isnull().sum()"
   ]
  },
  {
   "cell_type": "code",
   "execution_count": 9,
   "id": "614ab54c",
   "metadata": {},
   "outputs": [
    {
     "data": {
      "text/plain": [
       "prefix        0\n",
       "first         0\n",
       "last          0\n",
       "email         0\n",
       "gender        0\n",
       "age           0\n",
       "company       0\n",
       "profession    0\n",
       "phone         0\n",
       "postal        0\n",
       "province      2\n",
       "cc_no         0\n",
       "cc_exp        0\n",
       "cc_type       0\n",
       "price(CAD)    5\n",
       "fav_color     0\n",
       "ip            0\n",
       "weekday       0\n",
       "ampm          0\n",
       "date          0\n",
       "dtype: int64"
      ]
     },
     "execution_count": 9,
     "metadata": {},
     "output_type": "execute_result"
    }
   ],
   "source": [
    "#addressing the null values in gender column\n",
    "cust['gender'] = cust['gender'].fillna(cust['gender'].mode()[0])\n",
    "cust.isnull().sum()"
   ]
  },
  {
   "cell_type": "code",
   "execution_count": 10,
   "id": "c68d37c8",
   "metadata": {
    "scrolled": true
   },
   "outputs": [
    {
     "data": {
      "text/html": [
       "<div>\n",
       "<style scoped>\n",
       "    .dataframe tbody tr th:only-of-type {\n",
       "        vertical-align: middle;\n",
       "    }\n",
       "\n",
       "    .dataframe tbody tr th {\n",
       "        vertical-align: top;\n",
       "    }\n",
       "\n",
       "    .dataframe thead th {\n",
       "        text-align: right;\n",
       "    }\n",
       "</style>\n",
       "<table border=\"1\" class=\"dataframe\">\n",
       "  <thead>\n",
       "    <tr style=\"text-align: right;\">\n",
       "      <th></th>\n",
       "      <th>prefix</th>\n",
       "      <th>first</th>\n",
       "      <th>last</th>\n",
       "      <th>email</th>\n",
       "      <th>gender</th>\n",
       "      <th>age</th>\n",
       "      <th>company</th>\n",
       "      <th>profession</th>\n",
       "      <th>phone</th>\n",
       "      <th>postal</th>\n",
       "      <th>province</th>\n",
       "      <th>cc_no</th>\n",
       "      <th>cc_exp</th>\n",
       "      <th>cc_type</th>\n",
       "      <th>price_CAD</th>\n",
       "      <th>fav_color</th>\n",
       "      <th>ip</th>\n",
       "      <th>weekday</th>\n",
       "      <th>ampm</th>\n",
       "      <th>date</th>\n",
       "    </tr>\n",
       "  </thead>\n",
       "  <tbody>\n",
       "    <tr>\n",
       "      <th>0</th>\n",
       "      <td>Dr.</td>\n",
       "      <td>Ray</td>\n",
       "      <td>Morton</td>\n",
       "      <td>sebvajom@kol.km</td>\n",
       "      <td>Male</td>\n",
       "      <td>38</td>\n",
       "      <td>Medtronic Inc.</td>\n",
       "      <td>Health Therapist</td>\n",
       "      <td>(987) 619-2695</td>\n",
       "      <td>B6V 3W3</td>\n",
       "      <td>MB</td>\n",
       "      <td>0        5.020000e+15\\n1        5.020000e+15\\n...</td>\n",
       "      <td>May-18</td>\n",
       "      <td>Solo</td>\n",
       "      <td>8.36</td>\n",
       "      <td>Blue</td>\n",
       "      <td>126.23.139.2</td>\n",
       "      <td>Sunday</td>\n",
       "      <td>pm</td>\n",
       "      <td>04-05-1930</td>\n",
       "    </tr>\n",
       "    <tr>\n",
       "      <th>1</th>\n",
       "      <td>Miss</td>\n",
       "      <td>Claudia</td>\n",
       "      <td>Rodriquez</td>\n",
       "      <td>acu@jatsot.ug</td>\n",
       "      <td>Female</td>\n",
       "      <td>51</td>\n",
       "      <td>Ames Department Stores, Inc.</td>\n",
       "      <td>Health Therapist</td>\n",
       "      <td>(356) 736-7352</td>\n",
       "      <td>G7M 5F3</td>\n",
       "      <td>SK</td>\n",
       "      <td>0        5.020000e+15\\n1        5.020000e+15\\n...</td>\n",
       "      <td>Jul-28</td>\n",
       "      <td>Visa</td>\n",
       "      <td>68.31</td>\n",
       "      <td>Black</td>\n",
       "      <td>106.198.76.211</td>\n",
       "      <td>Tuesday</td>\n",
       "      <td>am</td>\n",
       "      <td>12/20/1926</td>\n",
       "    </tr>\n",
       "    <tr>\n",
       "      <th>2</th>\n",
       "      <td>Miss</td>\n",
       "      <td>Harry</td>\n",
       "      <td>Meyer</td>\n",
       "      <td>zuz@lo.wf</td>\n",
       "      <td>Female</td>\n",
       "      <td>51</td>\n",
       "      <td>CSX Corp.</td>\n",
       "      <td>Political Scientist</td>\n",
       "      <td>(539) 246-1806</td>\n",
       "      <td>A0Z 6P9</td>\n",
       "      <td>NS</td>\n",
       "      <td>0        5.020000e+15\\n1        5.020000e+15\\n...</td>\n",
       "      <td>Feb-23</td>\n",
       "      <td>Switch</td>\n",
       "      <td>34.65</td>\n",
       "      <td>Black</td>\n",
       "      <td>186.150.187.29</td>\n",
       "      <td>Wednesday</td>\n",
       "      <td>pm</td>\n",
       "      <td>08/20/1931</td>\n",
       "    </tr>\n",
       "    <tr>\n",
       "      <th>3</th>\n",
       "      <td>Miss</td>\n",
       "      <td>Edith</td>\n",
       "      <td>Gilbert</td>\n",
       "      <td>hansohsi@jupec.md</td>\n",
       "      <td>Female</td>\n",
       "      <td>55</td>\n",
       "      <td>Murphy Oil Corporation</td>\n",
       "      <td>Transportation Manager</td>\n",
       "      <td>(984) 962-7494</td>\n",
       "      <td>P9I 9H3</td>\n",
       "      <td>YT</td>\n",
       "      <td>0        5.020000e+15\\n1        5.020000e+15\\n...</td>\n",
       "      <td>Feb-28</td>\n",
       "      <td>Maestro</td>\n",
       "      <td>64.59</td>\n",
       "      <td>White</td>\n",
       "      <td>80.140.57.161</td>\n",
       "      <td>Saturday</td>\n",
       "      <td>am</td>\n",
       "      <td>06/18/2001</td>\n",
       "    </tr>\n",
       "    <tr>\n",
       "      <th>4</th>\n",
       "      <td>Dr.</td>\n",
       "      <td>Lura</td>\n",
       "      <td>Murphy</td>\n",
       "      <td>webediti@je.st</td>\n",
       "      <td>Female</td>\n",
       "      <td>20</td>\n",
       "      <td>PETsMART Inc</td>\n",
       "      <td>Statistician</td>\n",
       "      <td>(902) 568-9748</td>\n",
       "      <td>S1A 6K0</td>\n",
       "      <td>ON</td>\n",
       "      <td>0        5.020000e+15\\n1        5.020000e+15\\n...</td>\n",
       "      <td>Oct-25</td>\n",
       "      <td>Diners Club International</td>\n",
       "      <td>20.83</td>\n",
       "      <td>Yellow</td>\n",
       "      <td>211.103.43.41</td>\n",
       "      <td>Friday</td>\n",
       "      <td>pm</td>\n",
       "      <td>06/14/2045</td>\n",
       "    </tr>\n",
       "  </tbody>\n",
       "</table>\n",
       "</div>"
      ],
      "text/plain": [
       "  prefix    first       last              email  gender  age  \\\n",
       "0    Dr.      Ray     Morton    sebvajom@kol.km    Male   38   \n",
       "1   Miss  Claudia  Rodriquez      acu@jatsot.ug  Female   51   \n",
       "2   Miss    Harry      Meyer          zuz@lo.wf  Female   51   \n",
       "3   Miss    Edith    Gilbert  hansohsi@jupec.md  Female   55   \n",
       "4    Dr.     Lura     Murphy     webediti@je.st  Female   20   \n",
       "\n",
       "                        company              profession           phone  \\\n",
       "0                Medtronic Inc.        Health Therapist  (987) 619-2695   \n",
       "1  Ames Department Stores, Inc.        Health Therapist  (356) 736-7352   \n",
       "2                     CSX Corp.     Political Scientist  (539) 246-1806   \n",
       "3        Murphy Oil Corporation  Transportation Manager  (984) 962-7494   \n",
       "4                  PETsMART Inc            Statistician  (902) 568-9748   \n",
       "\n",
       "    postal province                                              cc_no  \\\n",
       "0  B6V 3W3       MB  0        5.020000e+15\\n1        5.020000e+15\\n...   \n",
       "1  G7M 5F3       SK  0        5.020000e+15\\n1        5.020000e+15\\n...   \n",
       "2  A0Z 6P9       NS  0        5.020000e+15\\n1        5.020000e+15\\n...   \n",
       "3  P9I 9H3       YT  0        5.020000e+15\\n1        5.020000e+15\\n...   \n",
       "4  S1A 6K0       ON  0        5.020000e+15\\n1        5.020000e+15\\n...   \n",
       "\n",
       "   cc_exp                    cc_type price_CAD fav_color              ip  \\\n",
       "0  May-18                       Solo      8.36      Blue    126.23.139.2   \n",
       "1  Jul-28                       Visa     68.31     Black  106.198.76.211   \n",
       "2  Feb-23                     Switch     34.65     Black  186.150.187.29   \n",
       "3  Feb-28                    Maestro     64.59     White   80.140.57.161   \n",
       "4  Oct-25  Diners Club International     20.83    Yellow   211.103.43.41   \n",
       "\n",
       "     weekday ampm        date  \n",
       "0     Sunday   pm  04-05-1930  \n",
       "1    Tuesday   am  12/20/1926  \n",
       "2  Wednesday   pm  08/20/1931  \n",
       "3   Saturday   am  06/18/2001  \n",
       "4     Friday   pm  06/14/2045  "
      ]
     },
     "execution_count": 10,
     "metadata": {},
     "output_type": "execute_result"
    }
   ],
   "source": [
    "#addressing the null values in price(CAD) column\n",
    "cust=cust.rename(columns={cust.columns[14]: 'price_CAD'})\n",
    "cust.head(5)"
   ]
  },
  {
   "cell_type": "code",
   "execution_count": 11,
   "id": "2a0e1e23",
   "metadata": {},
   "outputs": [],
   "source": [
    "#addressing the null values in price(CAD) column\n",
    "cust['price_CAD'] = pd.to_numeric(cust['price_CAD'], errors='coerce')"
   ]
  },
  {
   "cell_type": "code",
   "execution_count": 12,
   "id": "8564ebaa",
   "metadata": {},
   "outputs": [
    {
     "data": {
      "text/plain": [
       "prefix        0\n",
       "first         0\n",
       "last          0\n",
       "email         0\n",
       "gender        0\n",
       "age           0\n",
       "company       0\n",
       "profession    0\n",
       "phone         0\n",
       "postal        0\n",
       "province      2\n",
       "cc_no         0\n",
       "cc_exp        0\n",
       "cc_type       0\n",
       "price_CAD     0\n",
       "fav_color     0\n",
       "ip            0\n",
       "weekday       0\n",
       "ampm          0\n",
       "date          0\n",
       "dtype: int64"
      ]
     },
     "execution_count": 12,
     "metadata": {},
     "output_type": "execute_result"
    }
   ],
   "source": [
    "#addressing the null values in price(CAD) column\n",
    "\n",
    "cust['price_CAD'] = cust['price_CAD'].fillna(cust['price_CAD'].mean())\n",
    "cust.isnull().sum()"
   ]
  },
  {
   "cell_type": "code",
   "execution_count": 13,
   "id": "20b5481d",
   "metadata": {},
   "outputs": [
    {
     "data": {
      "text/plain": [
       "prefix        0\n",
       "first         0\n",
       "last          0\n",
       "email         0\n",
       "gender        0\n",
       "age           0\n",
       "company       0\n",
       "profession    0\n",
       "phone         0\n",
       "postal        0\n",
       "province      0\n",
       "cc_no         0\n",
       "cc_exp        0\n",
       "cc_type       0\n",
       "price_CAD     0\n",
       "fav_color     0\n",
       "ip            0\n",
       "weekday       0\n",
       "ampm          0\n",
       "date          0\n",
       "dtype: int64"
      ]
     },
     "execution_count": 13,
     "metadata": {},
     "output_type": "execute_result"
    }
   ],
   "source": [
    "#addressing the null values in province column\n",
    "cust['province'] = cust['province'].fillna(cust['province'].mode()[0])\n",
    "cust.isnull().sum()"
   ]
  },
  {
   "cell_type": "code",
   "execution_count": 14,
   "id": "9862aa43",
   "metadata": {},
   "outputs": [
    {
     "name": "stdout",
     "output_type": "stream",
     "text": [
      "Skewness: age         -0.007923\n",
      "price_CAD   -0.004288\n",
      "dtype: float64\n",
      "************************************************************\n",
      "Kurtosis: age         -1.203635\n",
      "price_CAD   -1.192639\n",
      "dtype: float64\n",
      "************************************************************\n"
     ]
    }
   ],
   "source": [
    "#3. Univariate analysis and multi variate analysis \n",
    "print('Skewness:',cust.skew())\n",
    "print('*'*60)\n",
    "print('Kurtosis:',cust.kurt())\n",
    "print('*'*60)"
   ]
  },
  {
   "cell_type": "code",
   "execution_count": 15,
   "id": "5b932759",
   "metadata": {},
   "outputs": [
    {
     "data": {
      "text/plain": [
       "(array([7424.,    0.,    0., 7440.,    0.,    0., 7676.,    0.,    0.,\n",
       "        7460.]),\n",
       " array([0. , 0.3, 0.6, 0.9, 1.2, 1.5, 1.8, 2.1, 2.4, 2.7, 3. ]),\n",
       " <BarContainer object of 10 artists>)"
      ]
     },
     "execution_count": 15,
     "metadata": {},
     "output_type": "execute_result"
    },
    {
     "data": {
      "image/png": "[encoded data removed]",
      "text/plain": [
       "<Figure size 432x288 with 1 Axes>"
      ]
     },
     "metadata": {
      "needs_background": "light"
     },
     "output_type": "display_data"
    }
   ],
   "source": [
    "#sns.distplot(cust.gender)\n",
    "plt.hist(cust['prefix'])"
   ]
  },
  {
   "cell_type": "code",
   "execution_count": 16,
   "id": "d48673af",
   "metadata": {},
   "outputs": [
    {
     "data": {
      "text/plain": [
       "([<matplotlib.patches.Wedge at 0x199d01457c0>,\n",
       "  <matplotlib.patches.Wedge at 0x199d0155130>,\n",
       "  <matplotlib.patches.Wedge at 0x199d0155a00>,\n",
       "  <matplotlib.patches.Wedge at 0x199d0161310>,\n",
       "  <matplotlib.patches.Wedge at 0x199d0161be0>,\n",
       "  <matplotlib.patches.Wedge at 0x199d01714f0>],\n",
       " [Text(-0.5579613394977995, 0.9479868900073574, 'Blue'),\n",
       "  Text(-1.0997237951510719, -0.02464902388581245, 'Black'),\n",
       "  Text(-0.5192981205754462, -0.969705863634334, 'White'),\n",
       "  Text(0.5821946688564804, -0.9333002558421878, 'Yellow'),\n",
       "  Text(1.0995169834705363, 0.032594524998115944, 'Red'),\n",
       "  Text(0.5371817581364005, 0.9599144538579915, 'Green')],\n",
       " [Text(-0.30434254881698153, 0.5170837581858313, '16.933'),\n",
       "  Text(-0.5998493428096755, -0.013444922119534063, '16.847'),\n",
       "  Text(-0.28325352031387974, -0.528930471073273, '16.790'),\n",
       "  Text(0.3175607284671711, -0.5090728668230114, '16.613'),\n",
       "  Text(0.5997365364384742, 0.01777883181715415, '16.577'),\n",
       "  Text(0.29300823171076384, 0.523589702104359, '16.240')])"
      ]
     },
     "execution_count": 16,
     "metadata": {},
     "output_type": "execute_result"
    },
    {
     "data": {
      "image/png": "[encoded data removed]",
      "text/plain": [
       "<Figure size 432x288 with 1 Axes>"
      ]
     },
     "metadata": {},
     "output_type": "display_data"
    }
   ],
   "source": [
    "plt.pie(cust['fav_color'].value_counts(),startangle=90,autopct='%.3f',labels=['Blue','Black','White','Yellow','Red','Green'],shadow=True)"
   ]
  },
  {
   "cell_type": "code",
   "execution_count": 17,
   "id": "b879cba7",
   "metadata": {},
   "outputs": [
    {
     "name": "stderr",
     "output_type": "stream",
     "text": [
      "C:\\ProgramData\\Anaconda3\\lib\\site-packages\\seaborn\\distributions.py:2557: FutureWarning: `distplot` is a deprecated function and will be removed in a future version. Please adapt your code to use either `displot` (a figure-level function with similar flexibility) or `histplot` (an axes-level function for histograms).\n",
      "  warnings.warn(msg, FutureWarning)\n"
     ]
    },
    {
     "data": {
      "text/plain": [
       "<AxesSubplot:xlabel='price_CAD', ylabel='Density'>"
      ]
     },
     "execution_count": 17,
     "metadata": {},
     "output_type": "execute_result"
    },
    {
     "data": {
      "image/png": "[encoded data removed]",
      "text/plain": [
       "<Figure size 432x288 with 1 Axes>"
      ]
     },
     "metadata": {
      "needs_background": "light"
     },
     "output_type": "display_data"
    }
   ],
   "source": [
    "sns.distplot(cust.price_CAD)"
   ]
  },
  {
   "cell_type": "code",
   "execution_count": 18,
   "id": "4df80183",
   "metadata": {},
   "outputs": [
    {
     "name": "stderr",
     "output_type": "stream",
     "text": [
      "C:\\ProgramData\\Anaconda3\\lib\\site-packages\\seaborn\\distributions.py:2557: FutureWarning: `distplot` is a deprecated function and will be removed in a future version. Please adapt your code to use either `displot` (a figure-level function with similar flexibility) or `histplot` (an axes-level function for histograms).\n",
      "  warnings.warn(msg, FutureWarning)\n"
     ]
    },
    {
     "data": {
      "text/plain": [
       "<AxesSubplot:xlabel='age', ylabel='Density'>"
      ]
     },
     "execution_count": 18,
     "metadata": {},
     "output_type": "execute_result"
    },
    {
     "data": {
      "image/png": "[encoded data removed]",
      "text/plain": [
       "<Figure size 432x288 with 1 Axes>"
      ]
     },
     "metadata": {
      "needs_background": "light"
     },
     "output_type": "display_data"
    }
   ],
   "source": [
    "sns.distplot(cust.age)"
   ]
  },
  {
   "cell_type": "code",
   "execution_count": 19,
   "id": "f0e199d1",
   "metadata": {},
   "outputs": [
    {
     "data": {
      "text/html": [
       "<div>\n",
       "<style scoped>\n",
       "    .dataframe tbody tr th:only-of-type {\n",
       "        vertical-align: middle;\n",
       "    }\n",
       "\n",
       "    .dataframe tbody tr th {\n",
       "        vertical-align: top;\n",
       "    }\n",
       "\n",
       "    .dataframe thead th {\n",
       "        text-align: right;\n",
       "    }\n",
       "</style>\n",
       "<table border=\"1\" class=\"dataframe\">\n",
       "  <thead>\n",
       "    <tr style=\"text-align: right;\">\n",
       "      <th>fav_color</th>\n",
       "      <th>Black</th>\n",
       "      <th>Blue</th>\n",
       "      <th>Green</th>\n",
       "      <th>Red</th>\n",
       "      <th>White</th>\n",
       "      <th>Yellow</th>\n",
       "    </tr>\n",
       "    <tr>\n",
       "      <th>prefix</th>\n",
       "      <th></th>\n",
       "      <th></th>\n",
       "      <th></th>\n",
       "      <th></th>\n",
       "      <th></th>\n",
       "      <th></th>\n",
       "    </tr>\n",
       "  </thead>\n",
       "  <tbody>\n",
       "    <tr>\n",
       "      <th>Dr.</th>\n",
       "      <td>1291</td>\n",
       "      <td>1138</td>\n",
       "      <td>1277</td>\n",
       "      <td>1222</td>\n",
       "      <td>1295</td>\n",
       "      <td>1201</td>\n",
       "    </tr>\n",
       "    <tr>\n",
       "      <th>Miss</th>\n",
       "      <td>1169</td>\n",
       "      <td>1317</td>\n",
       "      <td>1182</td>\n",
       "      <td>1266</td>\n",
       "      <td>1276</td>\n",
       "      <td>1230</td>\n",
       "    </tr>\n",
       "    <tr>\n",
       "      <th>Mr.</th>\n",
       "      <td>1202</td>\n",
       "      <td>1284</td>\n",
       "      <td>1242</td>\n",
       "      <td>1251</td>\n",
       "      <td>1263</td>\n",
       "      <td>1218</td>\n",
       "    </tr>\n",
       "    <tr>\n",
       "      <th>Mrs.</th>\n",
       "      <td>1322</td>\n",
       "      <td>1298</td>\n",
       "      <td>1272</td>\n",
       "      <td>1315</td>\n",
       "      <td>1246</td>\n",
       "      <td>1223</td>\n",
       "    </tr>\n",
       "  </tbody>\n",
       "</table>\n",
       "</div>"
      ],
      "text/plain": [
       "fav_color  Black  Blue  Green   Red  White  Yellow\n",
       "prefix                                            \n",
       "Dr.         1291  1138   1277  1222   1295    1201\n",
       "Miss        1169  1317   1182  1266   1276    1230\n",
       "Mr.         1202  1284   1242  1251   1263    1218\n",
       "Mrs.        1322  1298   1272  1315   1246    1223"
      ]
     },
     "execution_count": 19,
     "metadata": {},
     "output_type": "execute_result"
    }
   ],
   "source": [
    "cust.groupby('prefix')[\"fav_color\"].value_counts().unstack()"
   ]
  },
  {
   "cell_type": "code",
   "execution_count": 20,
   "id": "8c9573a7",
   "metadata": {},
   "outputs": [
    {
     "data": {
      "text/plain": [
       "<AxesSubplot:xlabel='weekday', ylabel='price_CAD'>"
      ]
     },
     "execution_count": 20,
     "metadata": {},
     "output_type": "execute_result"
    },
    {
     "data": {
      "image/png": "[encoded data removed]",
      "text/plain": [
       "<Figure size 1296x360 with 1 Axes>"
      ]
     },
     "metadata": {
      "needs_background": "light"
     },
     "output_type": "display_data"
    }
   ],
   "source": [
    "plt.figure(figsize=(18,5))\n",
    "sns.boxplot(x = \"weekday\", y = \"price_CAD\", data=cust)"
   ]
  },
  {
   "cell_type": "code",
   "execution_count": 21,
   "id": "595311df",
   "metadata": {},
   "outputs": [
    {
     "data": {
      "text/plain": [
       "<AxesSubplot:xlabel='prefix', ylabel='age'>"
      ]
     },
     "execution_count": 21,
     "metadata": {},
     "output_type": "execute_result"
    },
    {
     "data": {
      "image/png": "[encoded data removed]",
      "text/plain": [
       "<Figure size 432x288 with 1 Axes>"
      ]
     },
     "metadata": {
      "needs_background": "light"
     },
     "output_type": "display_data"
    }
   ],
   "source": [
    "sns.boxplot(x = \"prefix\", y = \"age\", data=cust)"
   ]
  },
  {
   "cell_type": "code",
   "execution_count": 23,
   "id": "a98094c4",
   "metadata": {},
   "outputs": [
    {
     "data": {
      "text/plain": [
       "Text(0, 0.5, 'No. of customers')"
      ]
     },
     "execution_count": 23,
     "metadata": {},
     "output_type": "execute_result"
    },
    {
     "data": {
      "image/png": "[encoded data removed]",
      "text/plain": [
       "<Figure size 432x288 with 1 Axes>"
      ]
     },
     "metadata": {
      "needs_background": "light"
     },
     "output_type": "display_data"
    }
   ],
   "source": [
    "#4.Check for the normality of the data using histogram\n",
    "plt.hist(cust.age, bins = 80)\n",
    "plt.xlabel(\"age\")\n",
    "plt.ylabel(\"No. of customers\")\n",
    "#The histogram of age does not suggest a normal distribution。"
   ]
  },
  {
   "cell_type": "code",
   "execution_count": 24,
   "id": "7ba1a70d",
   "metadata": {},
   "outputs": [
    {
     "data": {
      "text/plain": [
       "Text(0.5, 0, 'price')"
      ]
     },
     "execution_count": 24,
     "metadata": {},
     "output_type": "execute_result"
    },
    {
     "data": {
      "image/png": "[encoded data removed]",
      "text/plain": [
       "<Figure size 432x288 with 1 Axes>"
      ]
     },
     "metadata": {
      "needs_background": "light"
     },
     "output_type": "display_data"
    }
   ],
   "source": [
    "plt.hist(cust.price_CAD, bins = 50)\n",
    "plt.xlabel(\"price\")\n",
    "#The histogram of price does not suggest a normal distribution。"
   ]
  },
  {
   "cell_type": "code",
   "execution_count": 34,
   "id": "a3ded7b1",
   "metadata": {},
   "outputs": [
    {
     "data": {
      "text/plain": [
       "Series([], Name: age, dtype: int64)"
      ]
     },
     "execution_count": 34,
     "metadata": {},
     "output_type": "execute_result"
    }
   ],
   "source": [
    "#5. Perform imputation by checking the IQR and remove outliers if any\n",
    "#Check age\n",
    "Q3 = np.percentile(cust.age,75)\n",
    "Q1 = np.percentile(cust.age,25)\n",
    "IQR = Q3 - Q1\n",
    "outliers = cust.age[(Q1 - 1.5*IQR >= cust.age) |  (cust.age >= Q3 + 1.5*IQR)]\n",
    "outliers"
   ]
  },
  {
   "cell_type": "code",
   "execution_count": 35,
   "id": "67791bad",
   "metadata": {},
   "outputs": [
    {
     "data": {
      "text/plain": [
       "Series([], Name: price_CAD, dtype: float64)"
      ]
     },
     "execution_count": 35,
     "metadata": {},
     "output_type": "execute_result"
    }
   ],
   "source": [
    "#Check price\n",
    "Q3 = np.percentile(cust.price_CAD,75)\n",
    "Q1 = np.percentile(cust.price_CAD,25)\n",
    "IQR = Q3 - Q1\n",
    "outliers = cust.price_CAD[(Q1 - 1.5*IQR >= cust.price_CAD) |  (cust.price_CAD >= Q3 + 1.5*IQR)]\n",
    "outliers\n",
    "#There are no outliers"
   ]
  },
  {
   "cell_type": "code",
   "execution_count": 36,
   "id": "cf056964",
   "metadata": {},
   "outputs": [
    {
     "data": {
      "text/plain": [
       "Willie     130\n",
       "Francis    124\n",
       "Eula        86\n",
       "Name: first, dtype: int64"
      ]
     },
     "execution_count": 36,
     "metadata": {},
     "output_type": "execute_result"
    }
   ],
   "source": [
    "#6. What are the three most common customer's names?\n",
    "cust['first'].value_counts().head(n=3)\n",
    "#the three most common customer's names are Willie, Francis and Eula"
   ]
  },
  {
   "cell_type": "code",
   "execution_count": 37,
   "id": "25db2285",
   "metadata": {},
   "outputs": [
    {
     "data": {
      "text/plain": [
       "prefix        43\n",
       "first         43\n",
       "last          43\n",
       "email         43\n",
       "gender        43\n",
       "age           43\n",
       "company       43\n",
       "profession    43\n",
       "phone         43\n",
       "postal        43\n",
       "province      43\n",
       "cc_no         43\n",
       "cc_exp        43\n",
       "cc_type       43\n",
       "price_CAD     43\n",
       "fav_color     43\n",
       "ip            43\n",
       "weekday       43\n",
       "ampm          43\n",
       "date          43\n",
       "dtype: int64"
      ]
     },
     "execution_count": 37,
     "metadata": {},
     "output_type": "execute_result"
    }
   ],
   "source": [
    "#7. How many male customers have 'Structural Engineer' as profession?\n",
    "cust[(cust['profession'] == 'Structural Engineer')\n",
    "     & (cust['gender'] == 'Male')].count()\n",
    "#There are 43 male customers are Structural Engineer."
   ]
  },
  {
   "cell_type": "code",
   "execution_count": 38,
   "id": "55e36cc5",
   "metadata": {},
   "outputs": [
    {
     "data": {
      "text/plain": [
       "(263) 382-8004    2\n",
       "(378) 956-8236    1\n",
       "(458) 999-8675    1\n",
       "Name: phone, dtype: int64"
      ]
     },
     "execution_count": 38,
     "metadata": {},
     "output_type": "execute_result"
    }
   ],
   "source": [
    "#8. Any customers have the same phone number, can you find those customers?\n",
    "cust['phone'].value_counts().head(n=3)"
   ]
  },
  {
   "cell_type": "code",
   "execution_count": 39,
   "id": "c0f38f06",
   "metadata": {},
   "outputs": [
    {
     "data": {
      "text/html": [
       "<div>\n",
       "<style scoped>\n",
       "    .dataframe tbody tr th:only-of-type {\n",
       "        vertical-align: middle;\n",
       "    }\n",
       "\n",
       "    .dataframe tbody tr th {\n",
       "        vertical-align: top;\n",
       "    }\n",
       "\n",
       "    .dataframe thead th {\n",
       "        text-align: right;\n",
       "    }\n",
       "</style>\n",
       "<table border=\"1\" class=\"dataframe\">\n",
       "  <thead>\n",
       "    <tr style=\"text-align: right;\">\n",
       "      <th></th>\n",
       "      <th>prefix</th>\n",
       "      <th>first</th>\n",
       "      <th>last</th>\n",
       "      <th>email</th>\n",
       "      <th>gender</th>\n",
       "      <th>age</th>\n",
       "      <th>company</th>\n",
       "      <th>profession</th>\n",
       "      <th>phone</th>\n",
       "      <th>postal</th>\n",
       "      <th>province</th>\n",
       "      <th>cc_no</th>\n",
       "      <th>cc_exp</th>\n",
       "      <th>cc_type</th>\n",
       "      <th>price_CAD</th>\n",
       "      <th>fav_color</th>\n",
       "      <th>ip</th>\n",
       "      <th>weekday</th>\n",
       "      <th>ampm</th>\n",
       "      <th>date</th>\n",
       "    </tr>\n",
       "  </thead>\n",
       "  <tbody>\n",
       "    <tr>\n",
       "      <th>15</th>\n",
       "      <td>Mrs.</td>\n",
       "      <td>Lilly</td>\n",
       "      <td>Tyler</td>\n",
       "      <td>kofadu@itohi.tf</td>\n",
       "      <td>Female</td>\n",
       "      <td>38</td>\n",
       "      <td>CSX Corp.</td>\n",
       "      <td>Structural Engineer</td>\n",
       "      <td>(263) 382-8004</td>\n",
       "      <td>V7K 1E3</td>\n",
       "      <td>ON</td>\n",
       "      <td>0        5.020000e+15\\n1        5.020000e+15\\n...</td>\n",
       "      <td>Nov-22</td>\n",
       "      <td>Diners Club Carte Blanche</td>\n",
       "      <td>9.61</td>\n",
       "      <td>Yellow</td>\n",
       "      <td>74.124.37.227</td>\n",
       "      <td>Saturday</td>\n",
       "      <td>am</td>\n",
       "      <td>03/30/1985</td>\n",
       "    </tr>\n",
       "    <tr>\n",
       "      <th>16</th>\n",
       "      <td>Mrs.</td>\n",
       "      <td>Peter</td>\n",
       "      <td>Cain</td>\n",
       "      <td>megkosig@anazeor.gn</td>\n",
       "      <td>Male</td>\n",
       "      <td>27</td>\n",
       "      <td>Campbell Soup Co.</td>\n",
       "      <td>Insurance Adjuster</td>\n",
       "      <td>(263) 382-8004</td>\n",
       "      <td>E8T 2B4</td>\n",
       "      <td>YT</td>\n",
       "      <td>0        5.020000e+15\\n1        5.020000e+15\\n...</td>\n",
       "      <td>Mar-24</td>\n",
       "      <td>Solo</td>\n",
       "      <td>13.74</td>\n",
       "      <td>Black</td>\n",
       "      <td>25.207.141.135</td>\n",
       "      <td>Tuesday</td>\n",
       "      <td>am</td>\n",
       "      <td>08-05-1950</td>\n",
       "    </tr>\n",
       "  </tbody>\n",
       "</table>\n",
       "</div>"
      ],
      "text/plain": [
       "   prefix  first   last                email  gender  age            company  \\\n",
       "15   Mrs.  Lilly  Tyler      kofadu@itohi.tf  Female   38          CSX Corp.   \n",
       "16   Mrs.  Peter   Cain  megkosig@anazeor.gn    Male   27  Campbell Soup Co.   \n",
       "\n",
       "             profession           phone   postal province  \\\n",
       "15  Structural Engineer  (263) 382-8004  V7K 1E3       ON   \n",
       "16   Insurance Adjuster  (263) 382-8004  E8T 2B4       YT   \n",
       "\n",
       "                                                cc_no  cc_exp  \\\n",
       "15  0        5.020000e+15\\n1        5.020000e+15\\n...  Nov-22   \n",
       "16  0        5.020000e+15\\n1        5.020000e+15\\n...  Mar-24   \n",
       "\n",
       "                      cc_type  price_CAD fav_color              ip   weekday  \\\n",
       "15  Diners Club Carte Blanche       9.61    Yellow   74.124.37.227  Saturday   \n",
       "16                       Solo      13.74     Black  25.207.141.135   Tuesday   \n",
       "\n",
       "   ampm        date  \n",
       "15   am  03/30/1985  \n",
       "16   am  08-05-1950  "
      ]
     },
     "execution_count": 39,
     "metadata": {},
     "output_type": "execute_result"
    }
   ],
   "source": [
    "cust[cust['phone'] == '(263) 382-8004']"
   ]
  },
  {
   "cell_type": "code",
   "execution_count": 40,
   "id": "a168ddaa",
   "metadata": {},
   "outputs": [
    {
     "data": {
      "text/html": [
       "<div>\n",
       "<style scoped>\n",
       "    .dataframe tbody tr th:only-of-type {\n",
       "        vertical-align: middle;\n",
       "    }\n",
       "\n",
       "    .dataframe tbody tr th {\n",
       "        vertical-align: top;\n",
       "    }\n",
       "\n",
       "    .dataframe thead th {\n",
       "        text-align: right;\n",
       "    }\n",
       "</style>\n",
       "<table border=\"1\" class=\"dataframe\">\n",
       "  <thead>\n",
       "    <tr style=\"text-align: right;\">\n",
       "      <th></th>\n",
       "      <th>prefix</th>\n",
       "      <th>first</th>\n",
       "      <th>last</th>\n",
       "      <th>email</th>\n",
       "      <th>gender</th>\n",
       "      <th>age</th>\n",
       "      <th>company</th>\n",
       "      <th>profession</th>\n",
       "      <th>phone</th>\n",
       "      <th>postal</th>\n",
       "      <th>province</th>\n",
       "      <th>cc_no</th>\n",
       "      <th>cc_exp</th>\n",
       "      <th>cc_type</th>\n",
       "      <th>price_CAD</th>\n",
       "      <th>fav_color</th>\n",
       "      <th>ip</th>\n",
       "      <th>weekday</th>\n",
       "      <th>ampm</th>\n",
       "      <th>date</th>\n",
       "    </tr>\n",
       "  </thead>\n",
       "  <tbody>\n",
       "    <tr>\n",
       "      <th>21093</th>\n",
       "      <td>Mrs.</td>\n",
       "      <td>Cody</td>\n",
       "      <td>Christensen</td>\n",
       "      <td>get@jovu.ag</td>\n",
       "      <td>Male</td>\n",
       "      <td>28</td>\n",
       "      <td>National City Corp.</td>\n",
       "      <td>Hospital Administrator</td>\n",
       "      <td>(261) 737-3292</td>\n",
       "      <td>X0S 1O5</td>\n",
       "      <td>PE</td>\n",
       "      <td>0        5.020000e+15\\n1        5.020000e+15\\n...</td>\n",
       "      <td>Mar-24</td>\n",
       "      <td>JCB</td>\n",
       "      <td>100.0</td>\n",
       "      <td>Green</td>\n",
       "      <td>168.48.19.165</td>\n",
       "      <td>Wednesday</td>\n",
       "      <td>pm</td>\n",
       "      <td>03/28/1955</td>\n",
       "    </tr>\n",
       "    <tr>\n",
       "      <th>24385</th>\n",
       "      <td>Miss</td>\n",
       "      <td>Lizzie</td>\n",
       "      <td>Dixon</td>\n",
       "      <td>goh@tuwjaz.gd</td>\n",
       "      <td>Female</td>\n",
       "      <td>38</td>\n",
       "      <td>FleetBoston Financial Co.</td>\n",
       "      <td>Compensation Analyst</td>\n",
       "      <td>(989) 239-1752</td>\n",
       "      <td>V8X 9V6</td>\n",
       "      <td>NB</td>\n",
       "      <td>0        5.020000e+15\\n1        5.020000e+15\\n...</td>\n",
       "      <td>Jul-19</td>\n",
       "      <td>Bankcard</td>\n",
       "      <td>100.0</td>\n",
       "      <td>Blue</td>\n",
       "      <td>140.87.99.78</td>\n",
       "      <td>Saturday</td>\n",
       "      <td>pm</td>\n",
       "      <td>03-03-1983</td>\n",
       "    </tr>\n",
       "  </tbody>\n",
       "</table>\n",
       "</div>"
      ],
      "text/plain": [
       "      prefix   first         last          email  gender  age  \\\n",
       "21093   Mrs.    Cody  Christensen    get@jovu.ag    Male   28   \n",
       "24385   Miss  Lizzie        Dixon  goh@tuwjaz.gd  Female   38   \n",
       "\n",
       "                         company              profession           phone  \\\n",
       "21093        National City Corp.  Hospital Administrator  (261) 737-3292   \n",
       "24385  FleetBoston Financial Co.    Compensation Analyst  (989) 239-1752   \n",
       "\n",
       "        postal province                                              cc_no  \\\n",
       "21093  X0S 1O5       PE  0        5.020000e+15\\n1        5.020000e+15\\n...   \n",
       "24385  V8X 9V6       NB  0        5.020000e+15\\n1        5.020000e+15\\n...   \n",
       "\n",
       "       cc_exp   cc_type  price_CAD fav_color             ip    weekday ampm  \\\n",
       "21093  Mar-24       JCB      100.0     Green  168.48.19.165  Wednesday   pm   \n",
       "24385  Jul-19  Bankcard      100.0      Blue   140.87.99.78   Saturday   pm   \n",
       "\n",
       "             date  \n",
       "21093  03/28/1955  \n",
       "24385  03-03-1983  "
      ]
     },
     "execution_count": 40,
     "metadata": {},
     "output_type": "execute_result"
    }
   ],
   "source": [
    "#9. Customers who spent 100CAD or more.\n",
    "cust[cust['price_CAD'] >= 100.0]"
   ]
  },
  {
   "cell_type": "code",
   "execution_count": 41,
   "id": "3fe83262",
   "metadata": {},
   "outputs": [
    {
     "data": {
      "text/plain": [
       "gmail.com      1687\n",
       "me.com         1676\n",
       "outlook.com    1664\n",
       "live.com       1660\n",
       "hotmail.com    1659\n",
       "Name: email, dtype: int64"
      ]
     },
     "execution_count": 41,
     "metadata": {},
     "output_type": "execute_result"
    }
   ],
   "source": [
    "#10. The top 5 most popular email providers\n",
    "cust['email'].apply(lambda x: x.split('@')[1]).value_counts().head()"
   ]
  },
  {
   "cell_type": "code",
   "execution_count": 42,
   "id": "bbaaa6a8",
   "metadata": {},
   "outputs": [
    {
     "data": {
      "text/html": [
       "<div>\n",
       "<style scoped>\n",
       "    .dataframe tbody tr th:only-of-type {\n",
       "        vertical-align: middle;\n",
       "    }\n",
       "\n",
       "    .dataframe tbody tr th {\n",
       "        vertical-align: top;\n",
       "    }\n",
       "\n",
       "    .dataframe thead th {\n",
       "        text-align: right;\n",
       "    }\n",
       "</style>\n",
       "<table border=\"1\" class=\"dataframe\">\n",
       "  <thead>\n",
       "    <tr style=\"text-align: right;\">\n",
       "      <th></th>\n",
       "      <th>prefix</th>\n",
       "      <th>first</th>\n",
       "      <th>last</th>\n",
       "      <th>email</th>\n",
       "      <th>gender</th>\n",
       "      <th>age</th>\n",
       "      <th>company</th>\n",
       "      <th>profession</th>\n",
       "      <th>phone</th>\n",
       "      <th>postal</th>\n",
       "      <th>province</th>\n",
       "      <th>cc_no</th>\n",
       "      <th>cc_exp</th>\n",
       "      <th>cc_type</th>\n",
       "      <th>price_CAD</th>\n",
       "      <th>fav_color</th>\n",
       "      <th>ip</th>\n",
       "      <th>weekday</th>\n",
       "      <th>ampm</th>\n",
       "      <th>date</th>\n",
       "    </tr>\n",
       "  </thead>\n",
       "  <tbody>\n",
       "    <tr>\n",
       "      <th>150</th>\n",
       "      <td>Miss</td>\n",
       "      <td>Loretta</td>\n",
       "      <td>Fletcher</td>\n",
       "      <td>barit@am.edu</td>\n",
       "      <td>Female</td>\n",
       "      <td>48</td>\n",
       "      <td>York International Corp</td>\n",
       "      <td>Rehabilitation Counselor</td>\n",
       "      <td>(323) 279-8038</td>\n",
       "      <td>E5X 8L0</td>\n",
       "      <td>QC</td>\n",
       "      <td>0        5.020000e+15\\n1        5.020000e+15\\n...</td>\n",
       "      <td>May-21</td>\n",
       "      <td>Diners Club United States &amp; Canada</td>\n",
       "      <td>97.26</td>\n",
       "      <td>White</td>\n",
       "      <td>147.57.240.225</td>\n",
       "      <td>Monday</td>\n",
       "      <td>am</td>\n",
       "      <td>11-07-2066</td>\n",
       "    </tr>\n",
       "  </tbody>\n",
       "</table>\n",
       "</div>"
      ],
      "text/plain": [
       "    prefix    first      last         email  gender  age  \\\n",
       "150   Miss  Loretta  Fletcher  barit@am.edu  Female   48   \n",
       "\n",
       "                     company                profession           phone  \\\n",
       "150  York International Corp  Rehabilitation Counselor  (323) 279-8038   \n",
       "\n",
       "      postal province                                              cc_no  \\\n",
       "150  E5X 8L0       QC  0        5.020000e+15\\n1        5.020000e+15\\n...   \n",
       "\n",
       "     cc_exp                             cc_type  price_CAD fav_color  \\\n",
       "150  May-21  Diners Club United States & Canada      97.26     White   \n",
       "\n",
       "                 ip weekday ampm        date  \n",
       "150  147.57.240.225  Monday   am  11-07-2066  "
      ]
     },
     "execution_count": 42,
     "metadata": {},
     "output_type": "execute_result"
    }
   ],
   "source": [
    "#Is there any customer who is using email with \"am.edu\"?\n",
    "cust[cust['email'].apply(lambda x: x.split('@')[1]) == 'am.edu']"
   ]
  },
  {
   "cell_type": "code",
   "execution_count": 43,
   "id": "b940d09c",
   "metadata": {},
   "outputs": [
    {
     "data": {
      "text/plain": [
       "Saturday    4376\n",
       "Name: weekday, dtype: int64"
      ]
     },
     "execution_count": 43,
     "metadata": {},
     "output_type": "execute_result"
    }
   ],
   "source": [
    "#Which day of the week, the store gets more customers?\n",
    "cust['weekday'].value_counts().head(1)\n",
    "# The store gets more customers on Saturday."
   ]
  },
  {
   "cell_type": "code",
   "execution_count": 44,
   "id": "43632204",
   "metadata": {},
   "outputs": [
    {
     "data": {
      "text/plain": [
       "Preschool Teacher       112\n",
       "Distribution Manager    107\n",
       "Name: profession, dtype: int64"
      ]
     },
     "execution_count": 44,
     "metadata": {},
     "output_type": "execute_result"
    }
   ],
   "source": [
    "#What are two most common professions?\n",
    "cust['profession'].value_counts().head(n = 2)"
   ]
  }
 ],
 "metadata": {
  "kernelspec": {
   "display_name": "Python 3",
   "language": "python",
   "name": "python3"
  },
  "language_info": {
   "codemirror_mode": {
    "name": "ipython",
    "version": 3
   },
   "file_extension": ".py",
   "mimetype": "text/x-python",
   "name": "python",
   "nbconvert_exporter": "python",
   "pygments_lexer": "ipython3",
   "version": "3.8.8"
  }
 },
 "nbformat": 4,
 "nbformat_minor": 5
}
